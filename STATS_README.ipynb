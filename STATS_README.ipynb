{
 "cells": [
  {
   "cell_type": "markdown",
   "metadata": {},
   "source": [
    "# Using stats.py"
   ]
  },
  {
   "cell_type": "markdown",
   "metadata": {},
   "source": [
    "## The Mathematics of stats.py"
   ]
  },
  {
   "cell_type": "markdown",
   "metadata": {},
   "source": [
    "Suppose a data set of $x$ and $y$ coordinates has a polynomial approximation. Then let $f(x)=a_0+a_1x+...+a_nx^n$ be a model of\n",
    "this data set. By adjusting the coefficients of the polynomial, it is possible to find a curve that minimizes the sum of the squared distances between $f(x_i)$ and the corresponding $y_i$. The sum of squared distances can be represented with $$R=\\sum_{i=1}^{m}\\left(f(x_i) - y_i\\right)^2,$$ where $m$ is the number of coordinate pairs in the data set. To minimize $R,$ we calculate its first partial derivatives with respect to each coefficient, then set the value of each to zero. The partial derivatives take the following form:\n",
    "$$\\dfrac{\\partial R}{\\partial a_k}=2\\sum_{i=1}^{m}(f(x_i)-y_i)x_i^k=0,$$ With $a_k$ being the $k^\\text{th}$ coefficient of the polynomial. Dividing out the 2, the equation becomes:  \n",
    "$$\\dfrac{\\partial R}{\\partial a_k}=\\sum_{i=1}^{m}(f(x_i)-y_i)x_i^k=0.$$\n",
    "Expanding the polynomial, and temporariliy ignoring the summation indices, we obtain:\n",
    "$$\\dfrac{\\partial R}{\\partial a_k}=a_0\\sum x^k+a_1\\sum x^{k+1}+...+a_n\\sum x^{k + n}=\\sum x_i^ky_i.$$\n",
    "This can be expressed as a dot product of a vector of sums with the coefficient vector:\n",
    "$$\\begin{bmatrix}\\sum x_i^k & \\sum x_i^{k+1} & \\cdots & \\sum x_i^{k + n}\\end{bmatrix}\\begin{bmatrix}a_0\\\\a_1\\\\\\vdots\\\\a_n\\end{bmatrix}=\\sum x_i^ky_i.$$ \n",
    "Since we are using an $n^\\text{th}$ degree polynomial approximation of a set of data, there will be $n$ coefficients to find. Thus, we will need to solve a linear system of equation in terms of the coefficients. So we construct a matrix of the following form:\n",
    "$$A=\\begin{bmatrix}\\sum1 & \\sum x_i & \\cdots & \\sum x_i^n \\\\ \\sum x_i & \\ddots & \\\\ \\vdots & & & \\vdots\\\\ \\sum x_i^n & \\sum x_i^{n+1} & \\cdots & \\sum x_i^{2n} \\end{bmatrix}.$$\n",
    "Then we define two vectors:\n",
    "$$\\vec{c} = \\begin{bmatrix}a_0\\\\ a_1\\\\ \\vdots\\\\ a_n\\end{bmatrix}, \\vec{y} = \\begin{bmatrix}\\sum y_i \\\\ \\sum y_ix_i \\\\ \\vdots \\\\ \\sum y_ix_i^n\\end{bmatrix}.$$\n",
    "By finding coefficients $\\vec{c}$ such that $A\\vec{c}=\\vec{y},$ the sum of the squared distances is minimized and the polynomial can accurately model the data set. "
   ]
  },
  {
   "cell_type": "markdown",
   "metadata": {},
   "source": [
    "## Examples for stats.py"
   ]
  },
  {
   "cell_type": "code",
   "execution_count": 8,
   "metadata": {},
   "outputs": [
    {
     "data": {
      "application/vnd.jupyter.widget-view+json": {
       "model_id": "d59243003efd450d88400ba8b8a61408",
       "version_major": 2,
       "version_minor": 0
      },
      "text/plain": [
       "Canvas(toolbar=Toolbar(toolitems=[('Home', 'Reset original view', 'home', 'home'), ('Back', 'Back to previous …"
      ]
     },
     "metadata": {},
     "output_type": "display_data"
    },
    {
     "data": {
      "text/plain": [
       "<matplotlib.collections.PathCollection at 0x7f225978d5f8>"
      ]
     },
     "execution_count": 8,
     "metadata": {},
     "output_type": "execute_result"
    }
   ],
   "source": [
    "%matplotlib widget\n",
    "from ipywidgets import *\n",
    "import matplotlib.pyplot as plt\n",
    "import numpy as np\n",
    "import stats as st\n",
    "\n",
    "plt.style.use(\"dark_background\")\n",
    "fig_1, ax_1 = plt.subplots()\n",
    "\n",
    "# In this example, the generate function first creates a polynomial of degree\n",
    "# 13, with random coefficients with real values between -20 and 20. Then the \n",
    "# numpy arange function is used to create the domain of the function according\n",
    "# to the domain and precision parameters. \n",
    "# \n",
    "# @params\n",
    "# deg: the degree of the polynomial to generate the data with\n",
    "# domain: the interval on which the data are generated\n",
    "# error: the maximum vertical distance from the actual value of the polynomial\n",
    "# radius: the range of the randomly generated coefficients\n",
    "# precision: the tightness of the data points\n",
    "# RETURN: x and y values, and the coefficients of the polynomial\n",
    "x, y, wb = st.generate(deg = 13, domain = (-1, 1), radius = 20, error = 3)\n",
    "ax_1.scatter(x, y, s = 1)"
   ]
  },
  {
   "cell_type": "code",
   "execution_count": 9,
   "metadata": {},
   "outputs": [
    {
     "data": {
      "application/vnd.jupyter.widget-view+json": {
       "model_id": "f3b6cb85889343be9daad9679f7bd076",
       "version_major": 2,
       "version_minor": 0
      },
      "text/plain": [
       "Canvas(toolbar=Toolbar(toolitems=[('Home', 'Reset original view', 'home', 'home'), ('Back', 'Back to previous …"
      ]
     },
     "metadata": {},
     "output_type": "display_data"
    },
    {
     "data": {
      "application/vnd.jupyter.widget-view+json": {
       "model_id": "8ef49675d3b544699d42515e2bfbadf9",
       "version_major": 2,
       "version_minor": 0
      },
      "text/plain": [
       "interactive(children=(IntSlider(value=13, description='Degree', max=30, min=1), Output()), _dom_classes=('widg…"
      ]
     },
     "metadata": {},
     "output_type": "display_data"
    },
    {
     "data": {
      "text/plain": [
       "<function __main__.update_poly(deg)>"
      ]
     },
     "execution_count": 9,
     "metadata": {},
     "output_type": "execute_result"
    }
   ],
   "source": [
    "# Given only the x and y values, the get_weights function can determine \n",
    "# a set of weights to minimize the squares.\n",
    "w = st.get_weights(x, y, deg = 13)\n",
    "\n",
    "def update_poly(deg):\n",
    "    w = st.get_weights(x, y, deg = deg)\n",
    "    curve_1.set_ydata(st.poly_f(domain_1, w))\n",
    "    fig_2.canvas.draw_idle()\n",
    "\n",
    "fig_2, ax_2 = plt.subplots()\n",
    "ax_2.scatter(x, y, s = 1)\n",
    "domain_1 = np.arange(-1, 1, .001)\n",
    "curve_1, = ax_2.plot(domain_1, st.poly_f(domain_1, w), color = \"r\")\n",
    "interact(update_poly, deg = IntSlider(min = 1, max = 30, value = 13, description = \"Degree\"))"
   ]
  },
  {
   "cell_type": "code",
   "execution_count": 10,
   "metadata": {},
   "outputs": [
    {
     "data": {
      "application/vnd.jupyter.widget-view+json": {
       "model_id": "2f7888da3f4849469a6da886d707997e",
       "version_major": 2,
       "version_minor": 0
      },
      "text/plain": [
       "Canvas(toolbar=Toolbar(toolitems=[('Home', 'Reset original view', 'home', 'home'), ('Back', 'Back to previous …"
      ]
     },
     "metadata": {},
     "output_type": "display_data"
    },
    {
     "data": {
      "application/vnd.jupyter.widget-view+json": {
       "model_id": "2cbdbb0eebed4919a1393eca98a7823f",
       "version_major": 2,
       "version_minor": 0
      },
      "text/plain": [
       "interactive(children=(IntSlider(value=31, description='Degree', min=1), Output()), _dom_classes=('widget-inter…"
      ]
     },
     "metadata": {},
     "output_type": "display_data"
    },
    {
     "data": {
      "text/plain": [
       "<function __main__.update_2(deg)>"
      ]
     },
     "execution_count": 10,
     "metadata": {},
     "output_type": "execute_result"
    }
   ],
   "source": [
    "# Certain functions can be approximated with polynomials using the same method\n",
    "def update_2(deg):\n",
    "    w_2 = st.get_weights(x_1, y_1, deg = deg)\n",
    "    curve_2.set_ydata(st.poly_f(domain_2, w_2))\n",
    "    fig_3.canvas.draw_idle()\n",
    "\n",
    "# e^(-.2x)(sin(2x) + cos(2x))\n",
    "def f(x):\n",
    "    return np.exp(-.2 * x) * (np.sin(2 * x) + np.cos(2 * x))\n",
    "\n",
    "bounds = (-10, 10)\n",
    "x_1, y_1 = st.f_dist(f, domain = bounds, error = .002, precision = .01)\n",
    "w_2 = st.get_weights(x_1, y_1, deg = 10)\n",
    "fig_3, ax_3 = plt.subplots()\n",
    "fig_3.subplots_adjust(0, 0, 1, 1)\n",
    "ax_3.scatter(x_1, y_1, s = 1)\n",
    "domain_2 = np.arange(*bounds, .01)\n",
    "curve_2, = ax_3.plot(domain_2, st.poly_f(domain_2, st.get_weights(x_1, y_1, deg = 1)), color = \"r\")\n",
    "interact(update_2, deg = IntSlider(min = 1, max = 100, value = 31, description = \"Degree\"))\n"
   ]
  }
 ],
 "metadata": {
  "kernelspec": {
   "display_name": "Python 3",
   "language": "python",
   "name": "python3"
  },
  "language_info": {
   "codemirror_mode": {
    "name": "ipython",
    "version": 3
   },
   "file_extension": ".py",
   "mimetype": "text/x-python",
   "name": "python",
   "nbconvert_exporter": "python",
   "pygments_lexer": "ipython3",
   "version": "3.6.9"
  }
 },
 "nbformat": 4,
 "nbformat_minor": 4
}
